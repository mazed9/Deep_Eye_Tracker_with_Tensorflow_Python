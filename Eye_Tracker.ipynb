{
  "nbformat": 4,
  "nbformat_minor": 0,
  "metadata": {
    "colab": {
      "provenance": [],
      "gpuType": "T4"
    },
    "kernelspec": {
      "name": "python3",
      "display_name": "Python 3"
    },
    "language_info": {
      "name": "python"
    },
    "accelerator": "GPU"
  },
  "cells": [
    {
      "cell_type": "markdown",
      "source": [
        "# 1. Install Dependencies"
      ],
      "metadata": {
        "id": "Ggb4r6xXBkD4"
      }
    },
    {
      "cell_type": "code",
      "execution_count": 28,
      "metadata": {
        "id": "Vw6E4Jf_BELp"
      },
      "outputs": [],
      "source": [
        "import os\n",
        "import cv2\n",
        "import tensorflow as tf\n",
        "import json\n",
        "import numpy as np\n",
        "from matplotlib import pyplot as plt"
      ]
    },
    {
      "cell_type": "markdown",
      "source": [
        "# 2. Load Data"
      ],
      "metadata": {
        "id": "LminxhONB-BT"
      }
    },
    {
      "cell_type": "markdown",
      "source": [
        "### 2.1 Load Images"
      ],
      "metadata": {
        "id": "Yij7Fvs1HAGI"
      }
    },
    {
      "cell_type": "code",
      "source": [
        "def load_image(x):\n",
        "  byte_img = tf.io.read_file(x)\n",
        "  img = tf.io.decode_jpeg(byte_img)\n",
        "  return img"
      ],
      "metadata": {
        "id": "MSy9YbB5B766"
      },
      "execution_count": 29,
      "outputs": []
    },
    {
      "cell_type": "code",
      "source": [
        "# Load train_images\n",
        "train_images = tf.data.Dataset.list_files('/content/drive/MyDrive/ML projects/Computer Vision/Eye tracker ( iris detection)/aug_data/train/images/*.jpg', shuffle=False)\n",
        "train_images = train_images.map(load_image)\n",
        "train_images = train_images.map(lambda x: tf.image.resize(x, (250,250)))\n",
        "train_images = train_images.map(lambda x: x/255)"
      ],
      "metadata": {
        "id": "YF3uTFKuDOab"
      },
      "execution_count": 30,
      "outputs": []
    },
    {
      "cell_type": "code",
      "source": [
        "#view an image\n",
        "sample= train_images.as_numpy_iterator().next()"
      ],
      "metadata": {
        "id": "xqR0LZwZE6nO"
      },
      "execution_count": 31,
      "outputs": []
    },
    {
      "cell_type": "code",
      "source": [
        "plt.imshow(sample)"
      ],
      "metadata": {
        "id": "9pXxhaZ1FeSC"
      },
      "execution_count": 32,
      "outputs": []
    },
    {
      "cell_type": "code",
      "source": [
        "#load test_images\n",
        "test_images = tf.data.Dataset.list_files('/content/drive/MyDrive/ML projects/Computer Vision/Eye tracker ( iris detection)/aug_data/test/images/*.jpg', shuffle=False)\n",
        "test_images = test_images.map(load_image)\n",
        "test_images = test_images.map(lambda x: tf.image.resize(x, (250,250)))\n",
        "test_images = test_images.map(lambda x: x/255)"
      ],
      "metadata": {
        "id": "FEFjZmRKFl8g"
      },
      "execution_count": 33,
      "outputs": []
    },
    {
      "cell_type": "code",
      "source": [
        "#load validation images\n",
        "val_images = tf.data.Dataset.list_files('/content/drive/MyDrive/ML projects/Computer Vision/Eye tracker ( iris detection)/aug_data/val/images/*.jpg', shuffle=False)\n",
        "val_images = val_images.map(load_image)\n",
        "val_images = val_images.map(lambda x: tf.image.resize(x, (250,250)))\n",
        "val_images = val_images.map(lambda x: x/255)"
      ],
      "metadata": {
        "id": "zb2pmLzRGr9w"
      },
      "execution_count": 34,
      "outputs": []
    },
    {
      "cell_type": "markdown",
      "source": [
        "### 2.2 Prepare Labels"
      ],
      "metadata": {
        "id": "FD-QOAIAHFUp"
      }
    },
    {
      "cell_type": "code",
      "source": [
        "def load_labels(label_path):\n",
        "  with open(label_path.numpy(), 'r', encoding = 'utf-8') as f:\n",
        "    label = json.load(f)\n",
        "  return [label['keypoints']]"
      ],
      "metadata": {
        "id": "pWezWkmtG98Y"
      },
      "execution_count": 35,
      "outputs": []
    },
    {
      "cell_type": "code",
      "source": [
        "#load train labels\n",
        "train_labels = tf.data.Dataset.list_files('/content/drive/MyDrive/ML projects/Computer Vision/Eye tracker ( iris detection)/aug_data/train/labels/*.json', shuffle=False)\n",
        "train_labels = train_labels.map(lambda x: tf.py_function(load_labels, [x], [tf.float16]))"
      ],
      "metadata": {
        "id": "ZZcRcUiZcGIz"
      },
      "execution_count": 36,
      "outputs": []
    },
    {
      "cell_type": "code",
      "source": [
        "#load test labels\n",
        "test_labels = tf.data.Dataset.list_files('/content/drive/MyDrive/ML projects/Computer Vision/Eye tracker ( iris detection)/aug_data/test/labels/*.json', shuffle=False)\n",
        "test_labels = test_labels.map(lambda x: tf.py_function(load_labels, [x], [tf.float16]))"
      ],
      "metadata": {
        "id": "wSWvQkQgc0LB"
      },
      "execution_count": 37,
      "outputs": []
    },
    {
      "cell_type": "code",
      "source": [
        "# load validation labels\n",
        "val_labels = tf.data.Dataset.list_files('/content/drive/MyDrive/ML projects/Computer Vision/Eye tracker ( iris detection)/aug_data/val/labels/*.json', shuffle=False)\n",
        "val_labels = val_labels.map(lambda x: tf.py_function(load_labels, [x], [tf.float16]))"
      ],
      "metadata": {
        "id": "6GHpLHkGdBsO"
      },
      "execution_count": 38,
      "outputs": []
    },
    {
      "cell_type": "markdown",
      "source": [
        "### 2.3 Combine Labels and Images"
      ],
      "metadata": {
        "id": "XgSA0nYhdOW-"
      }
    },
    {
      "cell_type": "code",
      "source": [
        "# combine train images and train labels\n",
        "train = tf.data.Dataset.zip((train_images, train_labels))\n",
        "train = train.shuffle(5000)\n",
        "train = train.batch(16)\n",
        "train = train.prefetch(4)"
      ],
      "metadata": {
        "id": "xGcDokz9dMxG"
      },
      "execution_count": 39,
      "outputs": []
    },
    {
      "cell_type": "code",
      "source": [
        "# combine test images and test labels\n",
        "test = tf.data.Dataset.zip((test_images, test_labels))\n",
        "test = test.shuffle(1300)\n",
        "test = test.batch(16)\n",
        "test = test.prefetch(4)"
      ],
      "metadata": {
        "id": "tMuah6jpfd-W"
      },
      "execution_count": 40,
      "outputs": []
    },
    {
      "cell_type": "code",
      "source": [
        "# combine val images and val labels\n",
        "val = tf.data.Dataset.zip((val_images, val_labels))\n",
        "val = val.shuffle(1300)\n",
        "val = val.batch(16)\n",
        "val = val.prefetch(4)"
      ],
      "metadata": {
        "id": "Nd3WEr2fpOaG"
      },
      "execution_count": 41,
      "outputs": []
    },
    {
      "cell_type": "markdown",
      "source": [
        "### 2.4 View Samples"
      ],
      "metadata": {
        "id": "MlO1Lrhnp_DM"
      }
    },
    {
      "cell_type": "code",
      "source": [
        "data_samples= val.as_numpy_iterator().next()"
      ],
      "metadata": {
        "id": "9cb641awpgrz"
      },
      "execution_count": 42,
      "outputs": []
    },
    {
      "cell_type": "code",
      "source": [
        "data_samples[1][0]"
      ],
      "metadata": {
        "id": "CvLaMUdWslXx"
      },
      "execution_count": 43,
      "outputs": []
    },
    {
      "cell_type": "code",
      "source": [
        "fig, ax = plt.subplots(ncols=4, figsize=(20,20))\n",
        "for idx in range(4):\n",
        "    sample_image = data_samples[0][idx]\n",
        "    sample_coords = data_samples[1][0][idx]\n",
        "\n",
        "    cv2.circle(sample_image, tuple(np.multiply(sample_coords[:2], [250,250]).astype(int)), 2, (0,0,255), -1)\n",
        "    cv2.circle(sample_image, tuple(np.multiply(sample_coords[2:], [250,250]).astype(int)), 2, (0,255,0), -1)\n",
        "\n",
        "    ax[idx].imshow(sample_image)"
      ],
      "metadata": {
        "id": "LaZysvnIy3hd"
      },
      "execution_count": 44,
      "outputs": []
    },
    {
      "cell_type": "markdown",
      "source": [
        "# 3. Build Model"
      ],
      "metadata": {
        "id": "RZ0Wf-EB3QYU"
      }
    },
    {
      "cell_type": "markdown",
      "source": [
        "### 3.1 Create Neural Network"
      ],
      "metadata": {
        "id": "ZYIZNoqx3VjF"
      }
    },
    {
      "cell_type": "code",
      "source": [
        "from tensorflow.keras.models import Sequential\n",
        "from tensorflow.keras.layers import Input, Conv2D, Reshape, Dropout\n",
        "from tensorflow.keras.applications import ResNet152V2"
      ],
      "metadata": {
        "id": "Nxx-OFJj0fke"
      },
      "execution_count": 45,
      "outputs": []
    },
    {
      "cell_type": "code",
      "source": [
        "model = Sequential([\n",
        "    Input(shape=(250,250,3)),\n",
        "    ResNet152V2(include_top=False, input_shape=(250,250,3)),\n",
        "    Conv2D(512, 3, padding='same', activation='relu'),\n",
        "    Conv2D(512, 3, padding='same', activation='relu'),\n",
        "    Conv2D(256, 3, 2, padding='same', activation='relu'),\n",
        "    Conv2D(256, 2, 2, activation='relu'),\n",
        "    Dropout(0.05),\n",
        "    Conv2D(4, 2, 2),\n",
        "    Reshape((4,))\n",
        "])"
      ],
      "metadata": {
        "id": "tJNwOd_C3dwk"
      },
      "execution_count": 46,
      "outputs": []
    },
    {
      "cell_type": "code",
      "source": [
        "model.summary()"
      ],
      "metadata": {
        "id": "0oLDUMa1_vcb",
        "colab": {
          "base_uri": "https://localhost:8080/"
        },
        "outputId": "3b6f4869-13ac-4368-d47d-106d3953310b"
      },
      "execution_count": 47,
      "outputs": [
        {
          "output_type": "stream",
          "name": "stdout",
          "text": [
            "Model: \"sequential_1\"\n",
            "_________________________________________________________________\n",
            " Layer (type)                Output Shape              Param #   \n",
            "=================================================================\n",
            " resnet152v2 (Functional)    (None, 8, 8, 2048)        58331648  \n",
            "                                                                 \n",
            " conv2d_5 (Conv2D)           (None, 8, 8, 512)         9437696   \n",
            "                                                                 \n",
            " conv2d_6 (Conv2D)           (None, 8, 8, 512)         2359808   \n",
            "                                                                 \n",
            " conv2d_7 (Conv2D)           (None, 4, 4, 256)         1179904   \n",
            "                                                                 \n",
            " conv2d_8 (Conv2D)           (None, 2, 2, 256)         262400    \n",
            "                                                                 \n",
            " dropout_1 (Dropout)         (None, 2, 2, 256)         0         \n",
            "                                                                 \n",
            " conv2d_9 (Conv2D)           (None, 1, 1, 4)           4100      \n",
            "                                                                 \n",
            " reshape_1 (Reshape)         (None, 4)                 0         \n",
            "                                                                 \n",
            "=================================================================\n",
            "Total params: 71,575,556\n",
            "Trainable params: 71,431,812\n",
            "Non-trainable params: 143,744\n",
            "_________________________________________________________________\n"
          ]
        }
      ]
    },
    {
      "cell_type": "markdown",
      "source": [
        "### 3.2 Setup Losses and Optimizer"
      ],
      "metadata": {
        "id": "I42wCu2a_y4n"
      }
    },
    {
      "cell_type": "code",
      "source": [
        "optimizer = tf.keras.optimizers.legacy.Adam(learning_rate=0.001, decay=0.0007)\n",
        "loss = tf.keras.losses.MeanSquaredError()"
      ],
      "metadata": {
        "id": "1DmY00wP_9Jm"
      },
      "execution_count": 48,
      "outputs": []
    },
    {
      "cell_type": "code",
      "source": [
        "model.compile(optimizer, loss)"
      ],
      "metadata": {
        "id": "VTfnfMiYIZqc"
      },
      "execution_count": 49,
      "outputs": []
    },
    {
      "cell_type": "markdown",
      "source": [
        "### 3.3 Sense Check predictions"
      ],
      "metadata": {
        "id": "Xr_L20wPId1N"
      }
    },
    {
      "cell_type": "code",
      "source": [
        "X, y = train.as_numpy_iterator().next()"
      ],
      "metadata": {
        "id": "qxEs_Jc8IlNe"
      },
      "execution_count": 50,
      "outputs": []
    },
    {
      "cell_type": "code",
      "source": [
        "X.shape"
      ],
      "metadata": {
        "id": "6QDdRjClItZU"
      },
      "execution_count": 51,
      "outputs": []
    },
    {
      "cell_type": "code",
      "source": [
        "scores = model.predict(X)"
      ],
      "metadata": {
        "id": "Uc1jcfwTIvpi"
      },
      "execution_count": 52,
      "outputs": []
    },
    {
      "cell_type": "code",
      "source": [
        "scores"
      ],
      "metadata": {
        "id": "QA_viFpnIyWk"
      },
      "execution_count": 53,
      "outputs": []
    },
    {
      "cell_type": "markdown",
      "source": [
        "### 3.4 Train the Model"
      ],
      "metadata": {
        "id": "e_Nn1o3OI3wF"
      }
    },
    {
      "cell_type": "code",
      "source": [
        "# Train for 100 epochs\n",
        "hist = model.fit(train, epochs=10, validation_data=val)"
      ],
      "metadata": {
        "id": "igcjWtTJI8W1",
        "colab": {
          "base_uri": "https://localhost:8080/"
        },
        "outputId": "f2798695-6491-4190-a5c3-537ff1dd842b"
      },
      "execution_count": 54,
      "outputs": [
        {
          "output_type": "stream",
          "name": "stdout",
          "text": [
            "Epoch 1/10\n",
            "420/420 [==============================] - 315s 634ms/step - loss: 0.8267 - val_loss: 0.0233\n",
            "Epoch 2/10\n",
            "420/420 [==============================] - 291s 626ms/step - loss: 0.0231 - val_loss: 0.0242\n",
            "Epoch 3/10\n",
            "420/420 [==============================] - 288s 623ms/step - loss: 0.0224 - val_loss: 0.0234\n",
            "Epoch 4/10\n",
            "420/420 [==============================] - 309s 672ms/step - loss: 0.0218 - val_loss: 0.0232\n",
            "Epoch 5/10\n",
            "420/420 [==============================] - 289s 626ms/step - loss: 0.0212 - val_loss: 0.0241\n",
            "Epoch 6/10\n",
            "420/420 [==============================] - 290s 625ms/step - loss: 0.0208 - val_loss: 0.0231\n",
            "Epoch 7/10\n",
            "420/420 [==============================] - 291s 628ms/step - loss: 0.0200 - val_loss: 0.0247\n",
            "Epoch 8/10\n",
            "420/420 [==============================] - 290s 629ms/step - loss: 0.0187 - val_loss: 0.0248\n",
            "Epoch 9/10\n",
            "420/420 [==============================] - 290s 628ms/step - loss: 0.0178 - val_loss: 0.0260\n",
            "Epoch 10/10\n",
            "420/420 [==============================] - 290s 630ms/step - loss: 0.0160 - val_loss: 0.0260\n"
          ]
        }
      ]
    },
    {
      "cell_type": "markdown",
      "source": [
        "# 4. Review Performance"
      ],
      "metadata": {
        "id": "ImYYJ2up-GV2"
      }
    },
    {
      "cell_type": "markdown",
      "source": [
        "### 4.1 View Loss Plots"
      ],
      "metadata": {
        "id": "KBw-RqGV-Tb9"
      }
    },
    {
      "cell_type": "code",
      "source": [
        "hist.history"
      ],
      "metadata": {
        "id": "8aOG8DxXkST0"
      },
      "execution_count": null,
      "outputs": []
    },
    {
      "cell_type": "code",
      "source": [
        "plt.plot(hist.history['loss'], color='teal', label='loss')\n",
        "plt.plot(hist.history['val_loss'], color='orange', label='val loss')\n",
        "plt.suptitle('Loss')\n",
        "plt.legend()\n",
        "plt.show()"
      ],
      "metadata": {
        "colab": {
          "base_uri": "https://localhost:8080/",
          "height": 478
        },
        "id": "YugmkhRy-a_2",
        "outputId": "bb51521e-ce5e-40b0-80c6-86b0fe0ab7dd"
      },
      "execution_count": 56,
      "outputs": [
        {
          "output_type": "display_data",
          "data": {
            "text/plain": [
              "<Figure size 640x480 with 1 Axes>"
            ],
            "image/png": "[encoded data removed]"
          },
          "metadata": {}
        }
      ]
    },
    {
      "cell_type": "markdown",
      "source": [
        "### 4.2 Make Prediction on test set"
      ],
      "metadata": {
        "id": "sCzdfL03-eMM"
      }
    },
    {
      "cell_type": "code",
      "source": [
        "test_data = test.as_numpy_iterator()"
      ],
      "metadata": {
        "id": "e1L5ga6l-hrw"
      },
      "execution_count": 57,
      "outputs": []
    },
    {
      "cell_type": "code",
      "source": [
        "test_sample = test_data.next()"
      ],
      "metadata": {
        "id": "M_l0IzDv-kk9"
      },
      "execution_count": 58,
      "outputs": []
    },
    {
      "cell_type": "code",
      "source": [
        "yhat = model.predict(test_sample[0])"
      ],
      "metadata": {
        "colab": {
          "base_uri": "https://localhost:8080/"
        },
        "id": "BEf4CDwg-pdM",
        "outputId": "a85f6785-4c73-4dbb-a293-6d8c3f4e08df"
      },
      "execution_count": 59,
      "outputs": [
        {
          "output_type": "stream",
          "name": "stdout",
          "text": [
            "1/1 [==============================] - 3s 3s/step\n"
          ]
        }
      ]
    },
    {
      "cell_type": "code",
      "source": [
        "fig, ax = plt.subplots(ncols=4, figsize=(20,20))\n",
        "for idx in range(4):\n",
        "    sample_image = test_sample[0][idx]\n",
        "    sample_coords = yhat[idx]\n",
        "\n",
        "    cv2.circle(sample_image, tuple(np.multiply(sample_coords[:2], [250,250]).astype(int)), 2, (255,0,0), -1)\n",
        "    cv2.circle(sample_image, tuple(np.multiply(sample_coords[2:], [250,250]).astype(int)), 2, (0,255,0), -1)\n",
        "\n",
        "    ax[idx].imshow(sample_image)"
      ],
      "metadata": {
        "id": "Uj5VImxX-syY"
      },
      "execution_count": null,
      "outputs": []
    },
    {
      "cell_type": "markdown",
      "source": [
        "### 4.3 Save the Model"
      ],
      "metadata": {
        "id": "M4bHVBrF-uOa"
      }
    },
    {
      "cell_type": "code",
      "source": [
        "from tensorflow.keras.models import load_model"
      ],
      "metadata": {
        "id": "zOwjUzVZ-zwS"
      },
      "execution_count": 61,
      "outputs": []
    },
    {
      "cell_type": "code",
      "source": [
        "model.save('/content/drive/MyDrive/ML projects/Computer Vision/Eye tracker ( iris detection)/eyetrackerresnet.h5')"
      ],
      "metadata": {
        "id": "5U1kNDG5-0r6"
      },
      "execution_count": 62,
      "outputs": []
    }
  ]
}